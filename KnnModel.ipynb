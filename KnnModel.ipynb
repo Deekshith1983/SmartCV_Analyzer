{
 "cells": [
  {
   "cell_type": "code",
   "execution_count": 3,
   "id": "2bdef263",
   "metadata": {},
   "outputs": [
    {
     "name": "stderr",
     "output_type": "stream",
     "text": [
      "c:\\Users\\admin\\AppData\\Local\\Programs\\Python\\Python312\\Lib\\site-packages\\tqdm\\auto.py:21: TqdmWarning: IProgress not found. Please update jupyter and ipywidgets. See https://ipywidgets.readthedocs.io/en/stable/user_install.html\n",
      "  from .autonotebook import tqdm as notebook_tqdm\n"
     ]
    }
   ],
   "source": [
    "import pandas as pd\n",
    "\n",
    "# Login using e.g. `huggingface-cli login` to access this dataset\n",
    "df = pd.read_csv(\"hf://datasets/AzharAli05/Resume-Screening-Dataset/dataset.csv\")"
   ]
  },
  {
   "cell_type": "code",
   "execution_count": 4,
   "metadata": {},
   "outputs": [],
   "source": [
    "df.to_csv(\"Resume_Screening_Dataset.csv\", index=False)"
   ]
  },
  {
   "cell_type": "code",
   "execution_count": 5,
   "metadata": {},
   "outputs": [],
   "source": [
    "df.rename(columns={\"Role\": \"Category\"}, inplace=True)"
   ]
  },
  {
   "cell_type": "code",
   "execution_count": 6,
   "metadata": {},
   "outputs": [
    {
     "data": {
      "text/html": [
       "<div>\n",
       "<style scoped>\n",
       "    .dataframe tbody tr th:only-of-type {\n",
       "        vertical-align: middle;\n",
       "    }\n",
       "\n",
       "    .dataframe tbody tr th {\n",
       "        vertical-align: top;\n",
       "    }\n",
       "\n",
       "    .dataframe thead th {\n",
       "        text-align: right;\n",
       "    }\n",
       "</style>\n",
       "<table border=\"1\" class=\"dataframe\">\n",
       "  <thead>\n",
       "    <tr style=\"text-align: right;\">\n",
       "      <th></th>\n",
       "      <th>Category</th>\n",
       "      <th>Resume</th>\n",
       "      <th>Decision</th>\n",
       "      <th>Reason_for_decision</th>\n",
       "      <th>Job_Description</th>\n",
       "    </tr>\n",
       "  </thead>\n",
       "  <tbody>\n",
       "    <tr>\n",
       "      <th>0</th>\n",
       "      <td>E-commerce Specialist</td>\n",
       "      <td>Here's a professional resume for Jason Jones:\\...</td>\n",
       "      <td>reject</td>\n",
       "      <td>Lacked leadership skills for a senior position.</td>\n",
       "      <td>Be part of a passionate team at the forefront ...</td>\n",
       "    </tr>\n",
       "    <tr>\n",
       "      <th>1</th>\n",
       "      <td>Game Developer</td>\n",
       "      <td>Here's a professional resume for Ann Marshall:...</td>\n",
       "      <td>select</td>\n",
       "      <td>Strong technical skills in AI and ML.</td>\n",
       "      <td>Help us build the next-generation products as ...</td>\n",
       "    </tr>\n",
       "    <tr>\n",
       "      <th>2</th>\n",
       "      <td>Human Resources Specialist</td>\n",
       "      <td>Here's a professional resume for Patrick Mccla...</td>\n",
       "      <td>reject</td>\n",
       "      <td>Insufficient system design expertise for senio...</td>\n",
       "      <td>We need a Human Resources Specialist to enhanc...</td>\n",
       "    </tr>\n",
       "    <tr>\n",
       "      <th>3</th>\n",
       "      <td>E-commerce Specialist</td>\n",
       "      <td>Here's a professional resume for Patricia Gray...</td>\n",
       "      <td>select</td>\n",
       "      <td>Impressive leadership and communication abilit...</td>\n",
       "      <td>Be part of a passionate team at the forefront ...</td>\n",
       "    </tr>\n",
       "    <tr>\n",
       "      <th>4</th>\n",
       "      <td>E-commerce Specialist</td>\n",
       "      <td>Here's a professional resume for Amanda Gross:...</td>\n",
       "      <td>reject</td>\n",
       "      <td>Lacked leadership skills for a senior position.</td>\n",
       "      <td>We are looking for an experienced E-commerce S...</td>\n",
       "    </tr>\n",
       "  </tbody>\n",
       "</table>\n",
       "</div>"
      ],
      "text/plain": [
       "                     Category  \\\n",
       "0       E-commerce Specialist   \n",
       "1              Game Developer   \n",
       "2  Human Resources Specialist   \n",
       "3       E-commerce Specialist   \n",
       "4       E-commerce Specialist   \n",
       "\n",
       "                                              Resume Decision  \\\n",
       "0  Here's a professional resume for Jason Jones:\\...   reject   \n",
       "1  Here's a professional resume for Ann Marshall:...   select   \n",
       "2  Here's a professional resume for Patrick Mccla...   reject   \n",
       "3  Here's a professional resume for Patricia Gray...   select   \n",
       "4  Here's a professional resume for Amanda Gross:...   reject   \n",
       "\n",
       "                                 Reason_for_decision  \\\n",
       "0    Lacked leadership skills for a senior position.   \n",
       "1              Strong technical skills in AI and ML.   \n",
       "2  Insufficient system design expertise for senio...   \n",
       "3  Impressive leadership and communication abilit...   \n",
       "4    Lacked leadership skills for a senior position.   \n",
       "\n",
       "                                     Job_Description  \n",
       "0  Be part of a passionate team at the forefront ...  \n",
       "1  Help us build the next-generation products as ...  \n",
       "2  We need a Human Resources Specialist to enhanc...  \n",
       "3  Be part of a passionate team at the forefront ...  \n",
       "4  We are looking for an experienced E-commerce S...  "
      ]
     },
     "execution_count": 6,
     "metadata": {},
     "output_type": "execute_result"
    }
   ],
   "source": [
    "df.head()"
   ]
  },
  {
   "cell_type": "code",
   "execution_count": 7,
   "metadata": {},
   "outputs": [],
   "source": [
    "df.drop(columns=[\"Decision\",\"Reason_for_decision\",\"Job_Description\"], inplace=True)"
   ]
  },
  {
   "cell_type": "code",
   "execution_count": 8,
   "metadata": {},
   "outputs": [
    {
     "data": {
      "text/html": [
       "<div>\n",
       "<style scoped>\n",
       "    .dataframe tbody tr th:only-of-type {\n",
       "        vertical-align: middle;\n",
       "    }\n",
       "\n",
       "    .dataframe tbody tr th {\n",
       "        vertical-align: top;\n",
       "    }\n",
       "\n",
       "    .dataframe thead th {\n",
       "        text-align: right;\n",
       "    }\n",
       "</style>\n",
       "<table border=\"1\" class=\"dataframe\">\n",
       "  <thead>\n",
       "    <tr style=\"text-align: right;\">\n",
       "      <th></th>\n",
       "      <th>Category</th>\n",
       "      <th>Resume</th>\n",
       "    </tr>\n",
       "  </thead>\n",
       "  <tbody>\n",
       "    <tr>\n",
       "      <th>0</th>\n",
       "      <td>E-commerce Specialist</td>\n",
       "      <td>Here's a professional resume for Jason Jones:\\...</td>\n",
       "    </tr>\n",
       "    <tr>\n",
       "      <th>1</th>\n",
       "      <td>Game Developer</td>\n",
       "      <td>Here's a professional resume for Ann Marshall:...</td>\n",
       "    </tr>\n",
       "    <tr>\n",
       "      <th>2</th>\n",
       "      <td>Human Resources Specialist</td>\n",
       "      <td>Here's a professional resume for Patrick Mccla...</td>\n",
       "    </tr>\n",
       "    <tr>\n",
       "      <th>3</th>\n",
       "      <td>E-commerce Specialist</td>\n",
       "      <td>Here's a professional resume for Patricia Gray...</td>\n",
       "    </tr>\n",
       "    <tr>\n",
       "      <th>4</th>\n",
       "      <td>E-commerce Specialist</td>\n",
       "      <td>Here's a professional resume for Amanda Gross:...</td>\n",
       "    </tr>\n",
       "  </tbody>\n",
       "</table>\n",
       "</div>"
      ],
      "text/plain": [
       "                     Category  \\\n",
       "0       E-commerce Specialist   \n",
       "1              Game Developer   \n",
       "2  Human Resources Specialist   \n",
       "3       E-commerce Specialist   \n",
       "4       E-commerce Specialist   \n",
       "\n",
       "                                              Resume  \n",
       "0  Here's a professional resume for Jason Jones:\\...  \n",
       "1  Here's a professional resume for Ann Marshall:...  \n",
       "2  Here's a professional resume for Patrick Mccla...  \n",
       "3  Here's a professional resume for Patricia Gray...  \n",
       "4  Here's a professional resume for Amanda Gross:...  "
      ]
     },
     "execution_count": 8,
     "metadata": {},
     "output_type": "execute_result"
    }
   ],
   "source": [
    "df.head()"
   ]
  },
  {
   "cell_type": "code",
   "execution_count": 9,
   "metadata": {},
   "outputs": [],
   "source": [
    "import numpy as np\n",
    "import pandas as pd\n",
    "import matplotlib.pyplot as plt\n",
    "import seaborn as sns\n",
    "\n",
    "import warnings\n",
    "warnings.filterwarnings('ignore')"
   ]
  },
  {
   "cell_type": "code",
   "execution_count": 10,
   "metadata": {},
   "outputs": [
    {
     "data": {
      "text/plain": [
       "(10174, 2)"
      ]
     },
     "execution_count": 10,
     "metadata": {},
     "output_type": "execute_result"
    }
   ],
   "source": [
    "df.shape"
   ]
  },
  {
   "cell_type": "code",
   "execution_count": 11,
   "id": "4e3fcb9d",
   "metadata": {},
   "outputs": [
    {
     "data": {
      "text/plain": [
       "Category\n",
       "Data Scientist                  538\n",
       "Software Engineer               480\n",
       "Product Manager                 458\n",
       "Data Engineer                   447\n",
       "UI Engineer                     375\n",
       "Data Analyst                    329\n",
       "data engineer                   307\n",
       "software engineer               307\n",
       "product manager                 303\n",
       "data scientist                  287\n",
       "E-commerce Specialist           268\n",
       "DevOps Engineer                 266\n",
       "Machine Learning Engineer       265\n",
       "Human Resources Specialist      262\n",
       "Digital Marketing Specialist    260\n",
       "Robotics Engineer               257\n",
       "Cloud Architect                 254\n",
       "Blockchain Developer            251\n",
       "QA Engineer                     251\n",
       "Mobile App Developer            247\n",
       "Full Stack Developer            246\n",
       "Database Administrator          243\n",
       "Cloud Engineer                  240\n",
       "Game Developer                  239\n",
       "Content Writer                  238\n",
       "AR/VR Developer                 237\n",
       "Cybersecurity Analyst           234\n",
       "UX Designer                     227\n",
       "Business Analyst                226\n",
       "AI Researcher                   225\n",
       "Data Architect                  225\n",
       "IT Support Specialist           224\n",
       "System Administrator            223\n",
       "data analyst                    183\n",
       "ui designer                     155\n",
       "ui engineer                     132\n",
       "UI Designer                      71\n",
       "Software Developer               66\n",
       "Project Manager                  56\n",
       "Network Engineer                 16\n",
       "Graphic Designer                 15\n",
       "AI Engineer                      13\n",
       "HR Specialist                    12\n",
       "Cybersecurity Specialist          9\n",
       "UI/UX Designer                    7\n",
       "Name: count, dtype: int64"
      ]
     },
     "execution_count": 11,
     "metadata": {},
     "output_type": "execute_result"
    }
   ],
   "source": [
    "df[\"Category\"].value_counts()"
   ]
  },
  {
   "cell_type": "code",
   "execution_count": 12,
   "metadata": {},
   "outputs": [
    {
     "data": {
      "image/png": "[encoded data removed]",
      "text/plain": [
       "<Figure size 1500x500 with 1 Axes>"
      ]
     },
     "metadata": {},
     "output_type": "display_data"
    }
   ],
   "source": [
    "plt.figure(figsize=(15,5))\n",
    "sns.countplot(x='Category', data=df)\n",
    "plt.xticks(rotation=90)\n",
    "plt.show()"
   ]
  },
  {
   "cell_type": "code",
   "execution_count": 13,
   "metadata": {},
   "outputs": [
    {
     "data": {
      "text/plain": [
       "'Here\\'s a professional resume for Jason Jones:\\n\\nJason Jones\\nE-commerce Specialist\\n\\nContact Information:\\n\\n* Email: [jasonjones@email.com](mailto:jasonjones@email.com)\\n* Phone: 555-123-4567\\n* LinkedIn: linkedin.com/in/jasonjones\\n\\nSummary:\\nResults-driven E-commerce Specialist with 5+ years of experience in inventory management, SEO, online advertising, and analytics. Proven track record of increasing online sales, improving website traffic, and optimizing inventory levels. Skilled in analyzing complex data sets, identifying trends, and making data-driven decisions. Passionate about staying up-to-date with the latest e-commerce trends and technologies.\\n\\nProfessional Experience:\\n\\nE-commerce Specialist, XYZ Corporation (2018-Present)\\n\\n* Managed inventory levels across multiple channels, resulting in a 25% reduction in stockouts and a 15% reduction in overstocking\\n* Developed and implemented SEO strategies that increased website traffic by 30% and improved search engine rankings by 20%\\n* Created and executed online advertising campaigns that generated a 50% increase in sales and a 20% increase in conversion rates\\n* Analyzed website analytics to identify trends, optimize user experience, and improve customer engagement\\n* Collaborated with cross-functional teams to launch new product lines, promotions, and marketing campaigns\\n\\nE-commerce Coordinator, ABC Retail (2015-2018)\\n\\n* Assisted in managing inventory levels, processing orders, and resolving customer inquiries\\n* Conducted keyword research and optimized product descriptions to improve search engine rankings\\n* Assisted in creating and executing online advertising campaigns, resulting in a 20% increase in sales\\n* Analyzed website analytics to identify trends and areas for improvement\\n\\nEducation:\\n\\n* Bachelor\\'s Degree in Business Administration, [University Name] (2015)\\n\\nSkills:\\n\\n* Inventory Management\\n* SEO for E-commerce\\n* Online Advertising (Google Ads, Facebook Ads)\\n* Analytics (Google Analytics, Excel)\\n* Data Analysis\\n* E-commerce Platforms (Shopify, WooCommerce)\\n* Customer Service\\n\\nAchievements:\\n\\n* Winner of the XYZ Corporation\\'s \"Innovator of the Year\" award for developing and implementing a data-driven approach to inventory management\\n* Featured speaker at the \"E-commerce Summit\" conference, presenting on \"Optimizing Inventory Levels for E-commerce Success\"\\n* Developed and implemented a social media strategy that increased followers by 500% and engagement by 200%\\n\\nCertifications:\\n\\n* Google Analytics Certification\\n* HubSpot Inbound Marketing Certification\\n* Shopify Plus Certification\\n\\nReferences:\\nAvailable upon request.'"
      ]
     },
     "execution_count": 13,
     "metadata": {},
     "output_type": "execute_result"
    }
   ],
   "source": [
    "df['Resume'][0]"
   ]
  },
  {
   "cell_type": "code",
   "execution_count": 14,
   "metadata": {},
   "outputs": [
    {
     "name": "stdout",
     "output_type": "stream",
     "text": [
      "Original Category Distribution\n",
      "Category\n",
      "Data Scientist                  538\n",
      "Software Engineer               480\n",
      "Product Manager                 458\n",
      "Data Engineer                   447\n",
      "UI Engineer                     375\n",
      "Data Analyst                    329\n",
      "data engineer                   307\n",
      "software engineer               307\n",
      "product manager                 303\n",
      "data scientist                  287\n",
      "E-commerce Specialist           268\n",
      "DevOps Engineer                 266\n",
      "Machine Learning Engineer       265\n",
      "Human Resources Specialist      262\n",
      "Digital Marketing Specialist    260\n",
      "Robotics Engineer               257\n",
      "Cloud Architect                 254\n",
      "Blockchain Developer            251\n",
      "QA Engineer                     251\n",
      "Mobile App Developer            247\n",
      "Full Stack Developer            246\n",
      "Database Administrator          243\n",
      "Cloud Engineer                  240\n",
      "Game Developer                  239\n",
      "Content Writer                  238\n",
      "AR/VR Developer                 237\n",
      "Cybersecurity Analyst           234\n",
      "UX Designer                     227\n",
      "Business Analyst                226\n",
      "AI Researcher                   225\n",
      "Data Architect                  225\n",
      "IT Support Specialist           224\n",
      "System Administrator            223\n",
      "data analyst                    183\n",
      "ui designer                     155\n",
      "ui engineer                     132\n",
      "UI Designer                      71\n",
      "Software Developer               66\n",
      "Project Manager                  56\n",
      "Network Engineer                 16\n",
      "Graphic Designer                 15\n",
      "AI Engineer                      13\n",
      "HR Specialist                    12\n",
      "Cybersecurity Specialist          9\n",
      "UI/UX Designer                    7\n",
      "Name: count, dtype: int64\n",
      "\n",
      "Balanced Category Distribution after Oversampling\n",
      "Category\n",
      "UI Engineer                     538\n",
      "Software Developer              538\n",
      "ui designer                     538\n",
      "Data Scientist                  538\n",
      "Data Analyst                    538\n",
      "Mobile App Developer            538\n",
      "Content Writer                  538\n",
      "Project Manager                 538\n",
      "Cloud Engineer                  538\n",
      "ui engineer                     538\n",
      "QA Engineer                     538\n",
      "Human Resources Specialist      538\n",
      "System Administrator            538\n",
      "software engineer               538\n",
      "Machine Learning Engineer       538\n",
      "Product Manager                 538\n",
      "AI Engineer                     538\n",
      "Cybersecurity Analyst           538\n",
      "data engineer                   538\n",
      "E-commerce Specialist           538\n",
      "data analyst                    538\n",
      "Game Developer                  538\n",
      "UX Designer                     538\n",
      "IT Support Specialist           538\n",
      "Data Architect                  538\n",
      "Digital Marketing Specialist    538\n",
      "HR Specialist                   538\n",
      "Cloud Architect                 538\n",
      "AI Researcher                   538\n",
      "Cybersecurity Specialist        538\n",
      "Data Engineer                   538\n",
      "UI Designer                     538\n",
      "UI/UX Designer                  538\n",
      "product manager                 538\n",
      "AR/VR Developer                 538\n",
      "Graphic Designer                538\n",
      "Full Stack Developer            538\n",
      "Robotics Engineer               538\n",
      "Database Administrator          538\n",
      "Blockchain Developer            538\n",
      "Business Analyst                538\n",
      "data scientist                  538\n",
      "Software Engineer               538\n",
      "DevOps Engineer                 538\n",
      "Network Engineer                538\n",
      "Name: count, dtype: int64\n"
     ]
    }
   ],
   "source": [
    "print('Original Category Distribution')\n",
    "print(df['Category'].value_counts())\n",
    "\n",
    "max_size = df['Category'].value_counts().max()\n",
    "\n",
    "balanced_df = df.groupby('Category').apply(lambda x: x.sample(max_size, replace=True)).reset_index(drop=True)\n",
    "\n",
    "df = balanced_df.sample(frac=1).reset_index(drop=True)\n",
    "\n",
    "print('\\nBalanced Category Distribution after Oversampling')\n",
    "print(df['Category'].value_counts())"
   ]
  },
  {
   "cell_type": "code",
   "execution_count": 15,
   "metadata": {},
   "outputs": [],
   "source": [
    "import re\n",
    "import string\n",
    "def CleanResume(txt):\n",
    "    txt = re.sub(r'http\\S+', ' ', txt)\n",
    "    \n",
    "    # Remove mentions (e.g., @username)\n",
    "    txt = re.sub(r'@\\S+', ' ', txt)\n",
    "    \n",
    "    # Remove hashtags (keeping words)\n",
    "    txt = re.sub(r'#\\S+', ' ', txt)\n",
    "    \n",
    "    # Remove RT (retweets) and common Twitter elements\n",
    "    txt = re.sub(r'\\bRT\\b|cc', ' ', txt)\n",
    "    \n",
    "    # Remove special characters, punctuations\n",
    "    txt = re.sub(r'[%s]' % re.escape(string.punctuation), ' ', txt)\n",
    "    \n",
    "    # Remove numbers\n",
    "    txt = re.sub(r'\\d+', ' ', txt)\n",
    "        \n",
    "    # Remove extra whitespace\n",
    "    txt = re.sub(r'\\s+', ' ', txt).strip()\n",
    "    \n",
    "    # Convert to lowercase\n",
    "    txt = txt.lower()\n",
    "    \n",
    "    return txt\n",
    "    "
   ]
  },
  {
   "cell_type": "code",
   "execution_count": 16,
   "metadata": {},
   "outputs": [
    {
     "data": {
      "text/plain": [
       "'my webiste like is this and a ess it'"
      ]
     },
     "execution_count": 16,
     "metadata": {},
     "output_type": "execute_result"
    }
   ],
   "source": [
    "CleanResume(\"my #### $ #  #noorsaeed webiste like is this http://heloword and access it @gmain.com\")\n"
   ]
  },
  {
   "cell_type": "code",
   "execution_count": 17,
   "metadata": {},
   "outputs": [],
   "source": [
    "df['Resume'] = df['Resume'].apply(lambda x: CleanResume(x))"
   ]
  },
  {
   "cell_type": "code",
   "execution_count": 18,
   "metadata": {},
   "outputs": [],
   "source": [
    "from sklearn.preprocessing import LabelEncoder\n",
    "le = LabelEncoder()"
   ]
  },
  {
   "cell_type": "code",
   "execution_count": 19,
   "metadata": {},
   "outputs": [],
   "source": [
    "from sklearn.feature_extraction.text import TfidfVectorizer\n",
    "tfidf = TfidfVectorizer(stop_words='english')\n",
    "\n",
    "tfidf.fit(df['Resume'])\n",
    "text = tfidf.transform(df['Resume'])"
   ]
  },
  {
   "cell_type": "code",
   "execution_count": 20,
   "metadata": {},
   "outputs": [],
   "source": [
    "from sklearn.model_selection import train_test_split\n",
    "X_train, X_test, y_train, y_test = train_test_split(text, df['Category'], test_size=0.2, random_state=42)"
   ]
  },
  {
   "cell_type": "code",
   "execution_count": 21,
   "id": "aa54cae8",
   "metadata": {},
   "outputs": [
    {
     "data": {
      "text/plain": [
       "((19368, 18421), (4842, 18421))"
      ]
     },
     "execution_count": 21,
     "metadata": {},
     "output_type": "execute_result"
    }
   ],
   "source": [
    "X_train.shape, X_test.shape"
   ]
  },
  {
   "cell_type": "code",
   "execution_count": 23,
   "metadata": {},
   "outputs": [
    {
     "name": "stdout",
     "output_type": "stream",
     "text": [
      "\n",
      "KNeighborsClassifierResults:\n",
      "Accuracy: 0.9552\n",
      "\n",
      "Classification Report:\n",
      "                              precision  recall  f1-score    support\n",
      "AI Engineer                      1.0000  1.0000    1.0000   100.0000\n",
      "AI Researcher                    1.0000  1.0000    1.0000   102.0000\n",
      "AR/VR Developer                  1.0000  0.9596    0.9794    99.0000\n",
      "Blockchain Developer             1.0000  1.0000    1.0000   114.0000\n",
      "Business Analyst                 1.0000  0.9914    0.9957   116.0000\n",
      "Cloud Architect                  1.0000  0.9806    0.9902   103.0000\n",
      "Cloud Engineer                   0.9810  1.0000    0.9904   103.0000\n",
      "Content Writer                   1.0000  0.9915    0.9957   118.0000\n",
      "Cybersecurity Analyst            1.0000  1.0000    1.0000   117.0000\n",
      "Cybersecurity Specialist         1.0000  1.0000    1.0000   111.0000\n",
      "Data Analyst                     0.9358  0.9623    0.9488   106.0000\n",
      "Data Architect                   0.9914  1.0000    0.9957   115.0000\n",
      "Data Engineer                    0.9884  0.8019    0.8854   106.0000\n",
      "Data Scientist                   0.9167  0.8000    0.8544   110.0000\n",
      "Database Administrator           1.0000  1.0000    1.0000   104.0000\n",
      "DevOps Engineer                  1.0000  1.0000    1.0000   107.0000\n",
      "Digital Marketing Specialist     0.9912  1.0000    0.9956   112.0000\n",
      "E-commerce Specialist            1.0000  1.0000    1.0000   122.0000\n",
      "Full Stack Developer             1.0000  1.0000    1.0000   107.0000\n",
      "Game Developer                   0.9744  0.9913    0.9828   115.0000\n",
      "Graphic Designer                 1.0000  1.0000    1.0000   127.0000\n",
      "HR Specialist                    1.0000  1.0000    1.0000   113.0000\n",
      "Human Resources Specialist       1.0000  1.0000    1.0000    95.0000\n",
      "IT Support Specialist            0.9885  1.0000    0.9942    86.0000\n",
      "Machine Learning Engineer        1.0000  1.0000    1.0000   114.0000\n",
      "Mobile App Developer             1.0000  1.0000    1.0000    98.0000\n",
      "Network Engineer                 1.0000  1.0000    1.0000   119.0000\n",
      "Product Manager                  0.9444  0.7944    0.8629   107.0000\n",
      "Project Manager                  1.0000  1.0000    1.0000   110.0000\n",
      "QA Engineer                      1.0000  1.0000    1.0000    95.0000\n",
      "Robotics Engineer                1.0000  1.0000    1.0000   109.0000\n",
      "Software Developer               1.0000  1.0000    1.0000   111.0000\n",
      "Software Engineer                0.9674  0.8990    0.9319    99.0000\n",
      "System Administrator             1.0000  1.0000    1.0000   104.0000\n",
      "UI Designer                      0.9917  1.0000    0.9959   120.0000\n",
      "UI Engineer                      0.9733  0.7684    0.8588    95.0000\n",
      "UI/UX Designer                   1.0000  1.0000    1.0000   120.0000\n",
      "UX Designer                      1.0000  1.0000    1.0000   107.0000\n",
      "data analyst                     0.7607  0.9368    0.8396    95.0000\n",
      "data engineer                    0.6967  0.8095    0.7489   105.0000\n",
      "data scientist                   0.7264  0.7549    0.7404   102.0000\n",
      "product manager                  0.7304  0.8155    0.7706   103.0000\n",
      "software engineer                0.7941  0.7788    0.7864   104.0000\n",
      "ui designer                      0.8770  0.8992    0.8880   119.0000\n",
      "ui engineer                      0.8205  0.9796    0.8930    98.0000\n",
      "accuracy                         0.9552  0.9552    0.9552     0.9552\n",
      "macro avg                        0.9567  0.9537    0.9539  4842.0000\n",
      "weighted avg                     0.9584  0.9552    0.9556  4842.0000\n"
     ]
    }
   ],
   "source": [
    "from sklearn.neighbors import KNeighborsClassifier\n",
    "from sklearn.svm import SVC\n",
    "from sklearn.ensemble import RandomForestClassifier\n",
    "from sklearn.naive_bayes import GaussianNB\n",
    "from sklearn.metrics import accuracy_score, confusion_matrix, classification_report\n",
    "\n",
    "knn_model = KNeighborsClassifier()\n",
    "knn_model.fit(X_train, y_train)\n",
    "y_pred_knn = knn_model.predict(X_test)\n",
    "print('\\nKNeighborsClassifierResults:')\n",
    "print(f'Accuracy: {accuracy_score(y_test, y_pred_knn):.4f}')\n",
    "report_dict = classification_report(y_test, y_pred_knn, output_dict=True)\n",
    "\n",
    "# Convert to DataFrame for better formatting\n",
    "report_df = pd.DataFrame(report_dict).transpose()\n",
    "\n",
    "# Round values to 4 decimal places\n",
    "report_df = report_df.round(4)\n",
    "\n",
    "print(\"\\nClassification Report:\")\n",
    "print(report_df)"
   ]
  },
  {
   "cell_type": "code",
   "execution_count": 24,
   "id": "ef8c0d76",
   "metadata": {},
   "outputs": [
    {
     "name": "stdout",
     "output_type": "stream",
     "text": [
      "\n",
      "SVC Results:\n",
      "Accuracy: 0.9961\n",
      "Confusion Matrix:\n",
      "[[100   0   0 ...   0   0   0]\n",
      " [  0 102   0 ...   0   0   0]\n",
      " [  0   0  99 ...   0   0   0]\n",
      " ...\n",
      " [  0   0   0 ... 104   0   0]\n",
      " [  0   0   0 ...   0 119   0]\n",
      " [  0   0   0 ...   0   0  98]]\n",
      "\n",
      "Classification Report:\n",
      "                              precision  recall  f1-score    support\n",
      "AI Engineer                      1.0000  1.0000    1.0000   100.0000\n",
      "AI Researcher                    1.0000  1.0000    1.0000   102.0000\n",
      "AR/VR Developer                  1.0000  1.0000    1.0000    99.0000\n",
      "Blockchain Developer             1.0000  1.0000    1.0000   114.0000\n",
      "Business Analyst                 1.0000  1.0000    1.0000   116.0000\n",
      "Cloud Architect                  1.0000  1.0000    1.0000   103.0000\n",
      "Cloud Engineer                   1.0000  1.0000    1.0000   103.0000\n",
      "Content Writer                   1.0000  1.0000    1.0000   118.0000\n",
      "Cybersecurity Analyst            1.0000  1.0000    1.0000   117.0000\n",
      "Cybersecurity Specialist         1.0000  1.0000    1.0000   111.0000\n",
      "Data Analyst                     0.9906  0.9906    0.9906   106.0000\n",
      "Data Architect                   1.0000  1.0000    1.0000   115.0000\n",
      "Data Engineer                    0.9811  0.9811    0.9811   106.0000\n",
      "Data Scientist                   0.9817  0.9727    0.9772   110.0000\n",
      "Database Administrator           1.0000  1.0000    1.0000   104.0000\n",
      "DevOps Engineer                  1.0000  1.0000    1.0000   107.0000\n",
      "Digital Marketing Specialist     1.0000  1.0000    1.0000   112.0000\n",
      "E-commerce Specialist            1.0000  1.0000    1.0000   122.0000\n",
      "Full Stack Developer             1.0000  1.0000    1.0000   107.0000\n",
      "Game Developer                   0.9914  1.0000    0.9957   115.0000\n",
      "Graphic Designer                 1.0000  1.0000    1.0000   127.0000\n",
      "HR Specialist                    1.0000  1.0000    1.0000   113.0000\n",
      "Human Resources Specialist       1.0000  1.0000    1.0000    95.0000\n",
      "IT Support Specialist            1.0000  1.0000    1.0000    86.0000\n",
      "Machine Learning Engineer        1.0000  1.0000    1.0000   114.0000\n",
      "Mobile App Developer             1.0000  1.0000    1.0000    98.0000\n",
      "Network Engineer                 1.0000  1.0000    1.0000   119.0000\n",
      "Product Manager                  0.9636  0.9907    0.9770   107.0000\n",
      "Project Manager                  1.0000  1.0000    1.0000   110.0000\n",
      "QA Engineer                      1.0000  1.0000    1.0000    95.0000\n",
      "Robotics Engineer                1.0000  1.0000    1.0000   109.0000\n",
      "Software Developer               1.0000  1.0000    1.0000   111.0000\n",
      "Software Engineer                1.0000  0.9596    0.9794    99.0000\n",
      "System Administrator             1.0000  1.0000    1.0000   104.0000\n",
      "UI Designer                      1.0000  1.0000    1.0000   120.0000\n",
      "UI Engineer                      1.0000  0.9895    0.9947    95.0000\n",
      "UI/UX Designer                   1.0000  1.0000    1.0000   120.0000\n",
      "UX Designer                      1.0000  1.0000    1.0000   107.0000\n",
      "data analyst                     1.0000  1.0000    1.0000    95.0000\n",
      "data engineer                    0.9811  0.9905    0.9858   105.0000\n",
      "data scientist                   0.9804  0.9804    0.9804   102.0000\n",
      "product manager                  1.0000  0.9612    0.9802   103.0000\n",
      "software engineer                0.9630  1.0000    0.9811   104.0000\n",
      "ui designer                      1.0000  1.0000    1.0000   119.0000\n",
      "ui engineer                      0.9899  1.0000    0.9949    98.0000\n",
      "accuracy                         0.9961  0.9961    0.9961     0.9961\n",
      "macro avg                        0.9961  0.9959    0.9960  4842.0000\n",
      "weighted avg                     0.9961  0.9961    0.9961  4842.0000\n"
     ]
    }
   ],
   "source": [
    "from sklearn.svm import LinearSVC\n",
    "svc_model = LinearSVC()\n",
    "svc_model.fit(X_train, y_train)\n",
    "y_pred_svc = svc_model.predict(X_test)\n",
    "print(\"\\nSVC Results:\")\n",
    "print(f\"Accuracy: {accuracy_score(y_test, y_pred_svc):.4f}\")\n",
    "print(f\"Confusion Matrix:\\n{confusion_matrix(y_test, y_pred_svc)}\")\n",
    "report_dict = classification_report(y_test, y_pred_svc, output_dict=True)\n",
    "\n",
    "# Convert to DataFrame for better formatting\n",
    "report_df = pd.DataFrame(report_dict).transpose()\n",
    "\n",
    "# Round values to 4 decimal places\n",
    "report_df = report_df.round(4)\n",
    "\n",
    "print(\"\\nClassification Report:\")\n",
    "print(report_df) "
   ]
  },
  {
   "cell_type": "code",
   "execution_count": 25,
   "metadata": {},
   "outputs": [],
   "source": [
    "import pickle\n",
    "le = LabelEncoder()\n",
    "le.fit(df['Category'])  # y is your category labels\n",
    "pickle.dump(tfidf, open('tfidf.pkl','wb'))\n",
    "pickle.dump(svc_model, open('clf.pkl', 'wb'))\n",
    "pickle.dump(le, open('encoder.pkl', 'wb'))"
   ]
  },
  {
   "cell_type": "code",
   "execution_count": null,
   "id": "b0f6b96b",
   "metadata": {},
   "outputs": [],
   "source": []
  },
  {
   "cell_type": "code",
   "execution_count": null,
   "metadata": {},
   "outputs": [],
   "source": []
  },
  {
   "cell_type": "code",
   "execution_count": null,
   "metadata": {},
   "outputs": [],
   "source": []
  },
  {
   "cell_type": "code",
   "execution_count": null,
   "metadata": {},
   "outputs": [],
   "source": []
  },
  {
   "cell_type": "code",
   "execution_count": null,
   "metadata": {},
   "outputs": [],
   "source": []
  },
  {
   "cell_type": "code",
   "execution_count": null,
   "id": "6d8a3650",
   "metadata": {},
   "outputs": [],
   "source": []
  },
  {
   "cell_type": "code",
   "execution_count": null,
   "id": "40d4d6c4",
   "metadata": {},
   "outputs": [],
   "source": []
  }
 ],
 "metadata": {
  "kernelspec": {
   "display_name": "Python 3",
   "language": "python",
   "name": "python3"
  },
  "language_info": {
   "codemirror_mode": {
    "name": "ipython",
    "version": 3
   },
   "file_extension": ".py",
   "mimetype": "text/x-python",
   "name": "python",
   "nbconvert_exporter": "python",
   "pygments_lexer": "ipython3",
   "version": "3.12.10"
  }
 },
 "nbformat": 4,
 "nbformat_minor": 5
}
